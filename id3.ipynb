{
 "cells": [
  {
   "cell_type": "code",
   "execution_count": 38,
   "source": [
    "import pandas as pd\n",
    "import math"
   ],
   "outputs": [],
   "metadata": {}
  },
  {
   "cell_type": "code",
   "execution_count": 39,
   "source": [
    "def base_entropy(dataset):\n",
    "    p = 0\n",
    "    n = 0\n",
    "    target = dataset.iloc[:, -1] # get the target column\n",
    "    targets = list(set(target)) # set is used to get the categorical values, and use list to make an array\n",
    "    for i in target:\n",
    "        if i == targets[0]:\n",
    "            p = p + 1\n",
    "        else:\n",
    "            n = n + 1\n",
    "    if p == 0 or n == 0: # if one of it has already been divided\n",
    "        return 0\n",
    "    elif p == n: # if all the categories have equal chances - entropy = 1\n",
    "        return 1\n",
    "    else:\n",
    "        entropy = 0 - (\n",
    "            ((p / (p + n)) * (math.log2(p / (p + n))) + (n / (p + n)) * (math.log2(n / (p + n)))))\n",
    "        return entropy"
   ],
   "outputs": [],
   "metadata": {}
  },
  {
   "cell_type": "code",
   "execution_count": 40,
   "source": [
    "def entropy(dataset, feature, attribute):\n",
    "    p = 0\n",
    "    n = 0\n",
    "    target = dataset.iloc[:, -1]\n",
    "    targets = list(set(target))\n",
    "    for i, j in zip(feature, target):\n",
    "        if i == attribute and j == targets[0]:\n",
    "            p = p + 1\n",
    "        elif i == attribute and j == targets[1]:\n",
    "            n = n + 1\n",
    "    if p == 0 or n == 0:\n",
    "        return 0\n",
    "    elif p == n:\n",
    "        return 1\n",
    "    else:\n",
    "        entropy = 0 - (\n",
    "            ((p / (p + n)) * (math.log2(p / (p + n))) + (n / (p + n)) * (math.log2(n / (p + n)))))\n",
    "        return entropy"
   ],
   "outputs": [],
   "metadata": {}
  },
  {
   "cell_type": "code",
   "execution_count": 41,
   "source": [
    "def counter(target, attribute, i):\n",
    "    p = 0\n",
    "    n = 0\n",
    "    targets = list(set(target))\n",
    "    for j, k in zip(target, attribute):\n",
    "        if j == targets[0] and k == i:\n",
    "            p = p + 1\n",
    "        elif j == targets[1] and k == i:\n",
    "            n = n + 1\n",
    "    return p, n"
   ],
   "outputs": [],
   "metadata": {}
  },
  {
   "cell_type": "code",
   "execution_count": 42,
   "source": [
    "def Information_Gain(dataset, feature):\n",
    "    Distinct = list(set(feature))\n",
    "    Info_Gain = 0\n",
    "    for i in Distinct:\n",
    "        Info_Gain = Info_Gain + feature.count(i) / len(feature) * entropy(dataset, feature, i)\n",
    "    Info_Gain = base_entropy(dataset) - Info_Gain\n",
    "    return Info_Gain"
   ],
   "outputs": [],
   "metadata": {}
  },
  {
   "cell_type": "code",
   "execution_count": 43,
   "source": [
    "def generate_childs(dataset, attribute_index):\n",
    "    distinct = list(dataset.iloc[:, attribute_index])\n",
    "    childs = dict()\n",
    "    for i in distinct:\n",
    "        childs[i] = counter(dataset.iloc[:, -1], dataset.iloc[:, attribute_index], i)\n",
    "    return childs"
   ],
   "outputs": [],
   "metadata": {}
  },
  {
   "cell_type": "code",
   "execution_count": 44,
   "source": [
    "def modify_data_set(dataset,index, feature, impurity):\n",
    "    size = len(dataset)\n",
    "    subdata = dataset[dataset[feature] == impurity]\n",
    "    del (subdata[subdata.columns[index]])\n",
    "    return subdata"
   ],
   "outputs": [],
   "metadata": {}
  },
  {
   "cell_type": "code",
   "execution_count": 45,
   "source": [
    "def greatest_information_gain(dataset):\n",
    "    max = -1\n",
    "    attribute_index = 0\n",
    "    size = len(dataset.columns) - 1\n",
    "    for i in range(0, size):\n",
    "        feature = list(dataset.iloc[:, i])\n",
    "        i_g = Information_Gain(dataset, feature)\n",
    "        if max < i_g:\n",
    "            max = i_g\n",
    "            attribute_index = i\n",
    "    return attribute_index"
   ],
   "outputs": [],
   "metadata": {}
  },
  {
   "cell_type": "code",
   "execution_count": 46,
   "source": [
    "def construct_tree(dataset, tree):\n",
    "    target = dataset.iloc[:, -1]\n",
    "    impure_childs = []\n",
    "    attribute_index = greatest_information_gain(dataset)\n",
    "    childs = generate_childs(dataset, attribute_index)\n",
    "    tree[dataset.columns[attribute_index]] = childs\n",
    "    targets = list(set(dataset.iloc[:, -1]))\n",
    "    for k, v in childs.items():\n",
    "        if v[0] == 0:\n",
    "            tree[k] = targets[1]\n",
    "        elif v[1] == 0:\n",
    "            tree[k] = targets[0]\n",
    "        elif v[0] != 0 or v[1] != 0:\n",
    "            impure_childs.append(k)\n",
    "    for i in impure_childs:\n",
    "        sub = modify_data_set(dataset,attribute_index, dataset.columns[attribute_index], i)\n",
    "        tree = construct_tree(sub, tree)\n",
    "    return tree"
   ],
   "outputs": [],
   "metadata": {}
  },
  {
   "cell_type": "code",
   "execution_count": 47,
   "source": [
    "def main():\n",
    "    df = pd.read_csv(\"data1.csv\")\n",
    "    tree = dict()\n",
    "    result = construct_tree(df, tree)\n",
    "    for key, value in result.items():\n",
    "        print(key, \" => \", value)"
   ],
   "outputs": [],
   "metadata": {}
  },
  {
   "cell_type": "code",
   "execution_count": 48,
   "source": [
    "if __name__ == \"__main__\":\n",
    "    main()"
   ],
   "outputs": [
    {
     "output_type": "stream",
     "name": "stdout",
     "text": [
      "Outlook  =>  {'Sunny': (0, 5), 'Rainy': (3, 2)}\n",
      "Sunny  =>  Yes\n",
      "Company  =>  {'No': (2, 0), 'Medium': (1, 1), 'Big': (0, 1)}\n",
      "No  =>  No\n",
      "Big  =>  Yes\n",
      "Sailboat  =>  {'Small': (0, 1), 'Big_S': (1, 0)}\n",
      "Small  =>  Yes\n",
      "Big_S  =>  No\n"
     ]
    }
   ],
   "metadata": {}
  },
  {
   "cell_type": "code",
   "execution_count": 77,
   "source": [
    "df"
   ],
   "outputs": [
    {
     "output_type": "execute_result",
     "data": {
      "text/html": [
       "<div>\n",
       "<style scoped>\n",
       "    .dataframe tbody tr th:only-of-type {\n",
       "        vertical-align: middle;\n",
       "    }\n",
       "\n",
       "    .dataframe tbody tr th {\n",
       "        vertical-align: top;\n",
       "    }\n",
       "\n",
       "    .dataframe thead th {\n",
       "        text-align: right;\n",
       "    }\n",
       "</style>\n",
       "<table border=\"1\" class=\"dataframe\">\n",
       "  <thead>\n",
       "    <tr style=\"text-align: right;\">\n",
       "      <th></th>\n",
       "      <th>Outlook</th>\n",
       "      <th>Company</th>\n",
       "      <th>Sailboat</th>\n",
       "      <th>Sail</th>\n",
       "    </tr>\n",
       "  </thead>\n",
       "  <tbody>\n",
       "    <tr>\n",
       "      <th>0</th>\n",
       "      <td>Sunny</td>\n",
       "      <td>Big</td>\n",
       "      <td>Small</td>\n",
       "      <td>Yes</td>\n",
       "    </tr>\n",
       "    <tr>\n",
       "      <th>1</th>\n",
       "      <td>Sunny</td>\n",
       "      <td>Medium</td>\n",
       "      <td>Small</td>\n",
       "      <td>Yes</td>\n",
       "    </tr>\n",
       "    <tr>\n",
       "      <th>2</th>\n",
       "      <td>Sunny</td>\n",
       "      <td>Medium</td>\n",
       "      <td>Big_S</td>\n",
       "      <td>Yes</td>\n",
       "    </tr>\n",
       "    <tr>\n",
       "      <th>3</th>\n",
       "      <td>Sunny</td>\n",
       "      <td>No</td>\n",
       "      <td>Small</td>\n",
       "      <td>Yes</td>\n",
       "    </tr>\n",
       "    <tr>\n",
       "      <th>4</th>\n",
       "      <td>Sunny</td>\n",
       "      <td>Big</td>\n",
       "      <td>Big_S</td>\n",
       "      <td>Yes</td>\n",
       "    </tr>\n",
       "    <tr>\n",
       "      <th>5</th>\n",
       "      <td>Rainy</td>\n",
       "      <td>No</td>\n",
       "      <td>Small</td>\n",
       "      <td>No</td>\n",
       "    </tr>\n",
       "    <tr>\n",
       "      <th>6</th>\n",
       "      <td>Rainy</td>\n",
       "      <td>Medium</td>\n",
       "      <td>Small</td>\n",
       "      <td>Yes</td>\n",
       "    </tr>\n",
       "    <tr>\n",
       "      <th>7</th>\n",
       "      <td>Rainy</td>\n",
       "      <td>Big</td>\n",
       "      <td>Big_S</td>\n",
       "      <td>Yes</td>\n",
       "    </tr>\n",
       "    <tr>\n",
       "      <th>8</th>\n",
       "      <td>Rainy</td>\n",
       "      <td>No</td>\n",
       "      <td>Big_S</td>\n",
       "      <td>No</td>\n",
       "    </tr>\n",
       "    <tr>\n",
       "      <th>9</th>\n",
       "      <td>Rainy</td>\n",
       "      <td>Medium</td>\n",
       "      <td>Big_S</td>\n",
       "      <td>No</td>\n",
       "    </tr>\n",
       "  </tbody>\n",
       "</table>\n",
       "</div>"
      ],
      "text/plain": [
       "  Outlook Company Sailboat Sail\n",
       "0   Sunny     Big    Small  Yes\n",
       "1   Sunny  Medium    Small  Yes\n",
       "2   Sunny  Medium    Big_S  Yes\n",
       "3   Sunny      No    Small  Yes\n",
       "4   Sunny     Big    Big_S  Yes\n",
       "5   Rainy      No    Small   No\n",
       "6   Rainy  Medium    Small  Yes\n",
       "7   Rainy     Big    Big_S  Yes\n",
       "8   Rainy      No    Big_S   No\n",
       "9   Rainy  Medium    Big_S   No"
      ]
     },
     "metadata": {},
     "execution_count": 77
    }
   ],
   "metadata": {}
  }
 ],
 "metadata": {
  "orig_nbformat": 4,
  "language_info": {
   "name": "python",
   "version": "3.9.6",
   "mimetype": "text/x-python",
   "codemirror_mode": {
    "name": "ipython",
    "version": 3
   },
   "pygments_lexer": "ipython3",
   "nbconvert_exporter": "python",
   "file_extension": ".py"
  },
  "kernelspec": {
   "name": "python3",
   "display_name": "Python 3.9.6 64-bit"
  },
  "interpreter": {
   "hash": "aee8b7b246df8f9039afb4144a1f6fd8d2ca17a180786b69acc140d282b71a49"
  }
 },
 "nbformat": 4,
 "nbformat_minor": 2
}